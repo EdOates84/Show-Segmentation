{
  "nbformat": 4,
  "nbformat_minor": 0,
  "metadata": {
    "colab": {
      "name": "Get_Anchor.ipynb",
      "provenance": [],
      "collapsed_sections": []
    },
    "kernelspec": {
      "name": "python3",
      "display_name": "Python 3"
    }
  },
  "cells": [
    {
      "cell_type": "code",
      "metadata": {
        "id": "m0dci55gPZHJ",
        "colab_type": "code",
        "colab": {}
      },
      "source": [
        "pip install wikipedia"
      ],
      "execution_count": null,
      "outputs": []
    },
    {
      "cell_type": "code",
      "metadata": {
        "id": "76i3jJGhVRmB",
        "colab_type": "code",
        "colab": {}
      },
      "source": [
        "import wikipedia as wiki"
      ],
      "execution_count": null,
      "outputs": []
    },
    {
      "cell_type": "markdown",
      "metadata": {
        "id": "EXBX0BFSVSuU",
        "colab_type": "text"
      },
      "source": [
        "##Getting all professions of a given name"
      ]
    },
    {
      "cell_type": "code",
      "metadata": {
        "id": "l-BoXwLiEUTj",
        "colab_type": "code",
        "colab": {}
      },
      "source": [
        "\"\"\" After getting all professions of a person we can easily confirm that\n",
        "    our previous top 5 prediction is right or not & by using this we find \n",
        "    correct anchor.\n",
        "\"\"\"       \n",
        "\n",
        "def get_wiki_professions(name):\n",
        "  anchor_content = (((wiki.page(name,auto_suggest=False)).content).replace(' and ',', ').replace('.','. '))\n",
        "  #  print(anchor_content)\n",
        "  split_type = [' is a ',' is an ',' was a ',' was an ']\n",
        "  \n",
        "  split_type_list = []\n",
        "  prefix = None\n",
        "  for x in split_type:\n",
        "    if x in anchor_content:\n",
        "      prefix = x\n",
        "      split_type_index = anchor_content.find(prefix)\n",
        "      #  print(index_split_type)\n",
        "      pro = split_type_list.append(split_type_index)\n",
        "    else:\n",
        "      split_type_list.append(1000)\n",
        "\n",
        "  low_index = split_type[split_type_list.index(min(split_type_list))]\n",
        "  #  print(low_index)   \n",
        "      \n",
        "\n",
        "  if prefix is None:\n",
        "    return None\n",
        "\n",
        "  final_split = anchor_content.split(low_index)[1].split('. ')[0].split(', ')\n",
        "  # print(final_split)\n",
        "  final_professions = [anchor_content.lower() for anchor_content in final_split]\n",
        "  return final_professions"
      ],
      "execution_count": null,
      "outputs": []
    },
    {
      "cell_type": "code",
      "metadata": {
        "id": "pzgiHE6r5SgU",
        "colab_type": "code",
        "colab": {
          "base_uri": "https://localhost:8080/",
          "height": 108
        },
        "outputId": "b253fe81-097f-4c6b-8104-095b6262a502"
      },
      "source": [
        "get_wiki_professions(\"Stacey Travis\")"
      ],
      "execution_count": null,
      "outputs": [
        {
          "output_type": "execute_result",
          "data": {
            "text/plain": [
              "['american actress whose films include earth girls are easy (1988)',\n",
              " 'hardware (1990)',\n",
              " 'the super (1991)',\n",
              " 'traffic (2000),',\n",
              " 'ghost world (2001)']"
            ]
          },
          "metadata": {
            "tags": []
          },
          "execution_count": 19
        }
      ]
    },
    {
      "cell_type": "markdown",
      "metadata": {
        "id": "49OLHrXMXMr6",
        "colab_type": "text"
      },
      "source": [
        "##Check whether the given person is anchor or not"
      ]
    },
    {
      "cell_type": "code",
      "metadata": {
        "id": "v-whVl0p5fIG",
        "colab_type": "code",
        "colab": {}
      },
      "source": [
        "def check_wiki_professions(list_profession):\n",
        "  required_professions = ['host','presenter','journalist','news anchor','correspondent','anchor']\n",
        "\n",
        "  check_individual_prof = []\n",
        "  for x in required_professions:\n",
        "    final_check= [(x in y) for y in list_profession]\n",
        "    check_individual_prof.append(any(final_check))\n",
        "    # print(x)\n",
        "  \n",
        "  if (any(check_individual_prof)==True):\n",
        "    return True\n",
        "  else:\n",
        "    return False"
      ],
      "execution_count": null,
      "outputs": []
    },
    {
      "cell_type": "code",
      "metadata": {
        "id": "KUpw5KiO5ich",
        "colab_type": "code",
        "colab": {
          "base_uri": "https://localhost:8080/",
          "height": 35
        },
        "outputId": "ae593317-0a4f-4e3d-deaf-148f134c21e6"
      },
      "source": [
        "check_wiki_professions(get_wiki_professions(\"Jenny Agutter\"))"
      ],
      "execution_count": null,
      "outputs": [
        {
          "output_type": "execute_result",
          "data": {
            "text/plain": [
              "False"
            ]
          },
          "metadata": {
            "tags": []
          },
          "execution_count": 20
        }
      ]
    },
    {
      "cell_type": "markdown",
      "metadata": {
        "id": "_9e9agidYYQl",
        "colab_type": "text"
      },
      "source": [
        "##From top 5 anchor we get most probable anchor in that show"
      ]
    },
    {
      "cell_type": "code",
      "metadata": {
        "id": "R6q0YZ_b5niN",
        "colab_type": "code",
        "colab": {}
      },
      "source": [
        "\"\"\"  From top 5 anchor we get most probable anchor in that show\n",
        "     Make sure that the input anchors list follows given format. Here's an example\n",
        "     Anchor_list = \"Colleen-Williams_Ashwini-Bhave_Elaine-Quijano_Becky-Hobbs_Heidi-Collins\"\n",
        "\"\"\"\n",
        "def get_correct_anchor(top_5):\n",
        "  top_5_list = (top_5.replace('-',' ').replace('_',',')).split(',')\n",
        "  print(top_5_list)\n",
        "  for x in top_5_list:\n",
        "    # print(x)\n",
        "    if check_wiki_professions(get_wiki_professions(x)) is True:\n",
        "      return x\n",
        "    else:\n",
        "      return \"Not found\" "
      ],
      "execution_count": null,
      "outputs": []
    },
    {
      "cell_type": "code",
      "metadata": {
        "id": "PMDXhOeCS6dz",
        "colab_type": "code",
        "colab": {
          "base_uri": "https://localhost:8080/",
          "height": 54
        },
        "outputId": "eedcb65a-3212-4b14-e5b9-29bb11b4ef8f"
      },
      "source": [
        "get_correct_anchor('Rosemary-Church_Heather-Locklear_Stacey-Travis_Jenny-Agutter_Carole-MacNeil')"
      ],
      "execution_count": null,
      "outputs": [
        {
          "output_type": "stream",
          "text": [
            "['Rosemary Church', 'Heather Locklear', 'Stacey Travis', 'Jenny Agutter', 'Carole MacNeil']\n"
          ],
          "name": "stdout"
        },
        {
          "output_type": "execute_result",
          "data": {
            "application/vnd.google.colaboratory.intrinsic": {
              "type": "string"
            },
            "text/plain": [
              "'Rosemary Church'"
            ]
          },
          "metadata": {
            "tags": []
          },
          "execution_count": 17
        }
      ]
    }
  ]
}