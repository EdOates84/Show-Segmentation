{
  "nbformat": 4,
  "nbformat_minor": 0,
  "metadata": {
    "colab": {
      "name": "Achore.ipynb",
      "provenance": []
    },
    "kernelspec": {
      "name": "python3",
      "display_name": "Python 3"
    }
  },
  "cells": [
    {
      "cell_type": "code",
      "metadata": {
        "id": "l-BoXwLiEUTj",
        "colab_type": "code",
        "colab": {}
      },
      "source": [
        "import wikipedia as wiki\n",
        "\n",
        "def get_wiki_professions(name):\n",
        " \n",
        " anchor_content = (((wiki.page(name,auto_suggest=False)).content).replace(' and ',', ').replace('.','. '))\n",
        "#  print(anchor_content)\n",
        " split_type = [' is a ',' is an ',' was a ',' was an ']\n",
        " \n",
        " split_type_list = []\n",
        " prefix = None\n",
        " for x in split_type:\n",
        "   if x in anchor_content:\n",
        "     prefix = x\n",
        "     split_type_index = anchor_content.find(prefix)\n",
        "    #  print(index_split_type)\n",
        "     pro = split_type_list.append(split_type_index)\n",
        "   else:\n",
        "     split_type_list.append(1000)\n",
        "\n",
        " low_index = split_type[split_type_list.index(min(split_type_list))]\n",
        "#  print(low_index)   \n",
        "     \n",
        "\n",
        " if prefix is None:\n",
        "   return None\n",
        "\n",
        " final_split = anchor_content.split(low_index)[1].split('. ')[0].split(', ')\n",
        "#  print(final_split)\n",
        " final_professions = [anchor_content.lower() for anchor_content in final_split]\n",
        " return final_professions"
      ],
      "execution_count": 0,
      "outputs": []
    },
    {
      "cell_type": "code",
      "metadata": {
        "id": "pzgiHE6r5SgU",
        "colab_type": "code",
        "colab": {
          "base_uri": "https://localhost:8080/",
          "height": 35
        },
        "outputId": "1ff0d287-8d89-4940-e14f-44da908c6c99"
      },
      "source": [
        "get_wiki_professions(\"Matt Lauer\")"
      ],
      "execution_count": 48,
      "outputs": [
        {
          "output_type": "execute_result",
          "data": {
            "text/plain": [
              "['former american television news anchor']"
            ]
          },
          "metadata": {
            "tags": []
          },
          "execution_count": 48
        }
      ]
    },
    {
      "cell_type": "code",
      "metadata": {
        "id": "v-whVl0p5fIG",
        "colab_type": "code",
        "colab": {}
      },
      "source": [
        "def check_wiki_professions(list_profession):\n",
        "  general_professions = ['host','presenter','journalist','news anchor','correspondent','anchor']\n",
        "\n",
        "  check_individual_prof = []\n",
        "  for x in general_professions:\n",
        "    final_check= [(x in y) for y in list_profession]\n",
        "    check_individual_prof.append(any(final_check))\n",
        "    # print(x)\n",
        "  \n",
        "  if (any(check_individual_prof)==True):\n",
        "    return True\n",
        "  else:\n",
        "    return False"
      ],
      "execution_count": 0,
      "outputs": []
    },
    {
      "cell_type": "code",
      "metadata": {
        "id": "KUpw5KiO5ich",
        "colab_type": "code",
        "colab": {
          "base_uri": "https://localhost:8080/",
          "height": 35
        },
        "outputId": "6738613d-d9a1-4959-de51-ccd2c8976c08"
      },
      "source": [
        "check_wiki_professions(get_wiki_professions(\"Matt Lauer\"))"
      ],
      "execution_count": 50,
      "outputs": [
        {
          "output_type": "execute_result",
          "data": {
            "text/plain": [
              "True"
            ]
          },
          "metadata": {
            "tags": []
          },
          "execution_count": 50
        }
      ]
    },
    {
      "cell_type": "code",
      "metadata": {
        "id": "R6q0YZ_b5niN",
        "colab_type": "code",
        "colab": {}
      },
      "source": [
        "# From top 5 anchor we get most probable and in that show\n",
        "# Anchor_list = \"Colleen-Williams_Ashwini-Bhave_Elaine-Quijano_Becky-Hobbs_Heidi-Collins\"\n",
        "def get_correct_anchor(top_5):\n",
        "  top_5_list = (top_5.replace('-',' ').replace('_',',')).split(',')\n",
        "  print(top_5_list)\n",
        "  for x in top_5_list:\n",
        "    # print(x)\n",
        "    if check_wiki_professions(get_wiki_professions(x)) is True:\n",
        "      return x\n",
        "  else:\n",
        "    return \"Not found\" "
      ],
      "execution_count": 0,
      "outputs": []
    },
    {
      "cell_type": "code",
      "metadata": {
        "id": "PMDXhOeCS6dz",
        "colab_type": "code",
        "colab": {
          "base_uri": "https://localhost:8080/",
          "height": 54
        },
        "outputId": "b69ff511-47bc-4685-e052-908646a872a2"
      },
      "source": [
        "get_correct_anchor('Jack-Tunney_Gerry-Dee_Elisha-Cook-Jr._Ben-Welden_Hoyt-Axton')"
      ],
      "execution_count": 52,
      "outputs": [
        {
          "output_type": "stream",
          "text": [
            "['Jack Tunney', 'Gerry Dee', 'Elisha Cook Jr.', 'Ben Welden', 'Hoyt Axton']\n"
          ],
          "name": "stdout"
        },
        {
          "output_type": "execute_result",
          "data": {
            "text/plain": [
              "'Not found'"
            ]
          },
          "metadata": {
            "tags": []
          },
          "execution_count": 52
        }
      ]
    },
    {
      "cell_type": "code",
      "metadata": {
        "id": "SXOvTXC9iMXu",
        "colab_type": "code",
        "colab": {}
      },
      "source": [
        ""
      ],
      "execution_count": 0,
      "outputs": []
    }
  ]
}