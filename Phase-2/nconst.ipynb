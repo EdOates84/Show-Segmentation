{
  "nbformat": 4,
  "nbformat_minor": 0,
  "metadata": {
    "colab": {
      "name": "nconst.ipynb",
      "provenance": []
    },
    "kernelspec": {
      "name": "python3",
      "display_name": "Python 3"
    }
  },
  "cells": [
    {
      "cell_type": "code",
      "metadata": {
        "id": "sZNYiwXWTNNV",
        "colab_type": "code",
        "colab": {}
      },
      "source": [
        "def get_nconst(Anchor_Name,Pull_Year):\n",
        "\n",
        "  Read_Titlebasics = pd.read_table(TITLE_BASICS, sep='\\t')\n",
        "  Read_Namebasics = pd.read_table(NAME_BASICS, sep='\\t')\n",
        "  \n",
        "  Read_Namebasics.primaryProfession = Read_Namebasics.primaryProfession.fillna(\"Null\")\n",
        "  filter_year = Read_Namebasics[Read_Namebasics.deathYear >= Pull_Year]\n",
        "  Search_name = filter_year[filter_year.primaryName == Anchor_Name]\n",
        "  # filter_profession = Search_name[Search_name.primaryProfession.str.contains(IMDB_PROFESSION_TYPES)]\n",
        "  # return filter_profession\n",
        "  # return Search_name\n",
        "  # return len(filter_profession.index)\n",
        "  if len(Search_name.index) == 1:\n",
        "    for index, row in Search_name.iterrows():\n",
        "      prepare_list_kft = row.knownForTitles.split(',')\n",
        "      return [row.nconst,prepare_list_kft]\n",
        "\n",
        "  else:\n",
        "     \n",
        "    titleakas = pd.read_table(TITLE_AKAS, sep='\\t')\n",
        "    titleakas.region = titleakas.region.fillna(REGION_TYPE)\n",
        "    filter_region = titleakas[titleakas.region == REGION_TYPE]\n",
        "    filter_region_titleid = filter_region.titleId.tolist()\n",
        "\n",
        "    for index, row in Search_name.iterrows():\n",
        "      prepare_list_kft = row.knownForTitles.split(',')\n",
        "      for i in prepare_list_kft:\n",
        "        take_title = Read_Titlebasics[Read_Titlebasics.tconst == i]\n",
        "        if i in filter_region_titleid:\n",
        "          check_genres = take_title[take_title.genres.str.contains(GENRE_TYPES)]\n",
        "          if len(check_genres.index) == 1:\n",
        "            # print(prepare_list_kft)\n",
        "            # print(check_genres)\n",
        "            return [row.nconst,prepare_list_kft]\n",
        "    return [NONE]"
      ],
      "execution_count": null,
      "outputs": []
    }
  ]
}