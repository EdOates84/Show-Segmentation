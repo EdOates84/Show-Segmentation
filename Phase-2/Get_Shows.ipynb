{
  "nbformat": 4,
  "nbformat_minor": 0,
  "metadata": {
    "colab": {
      "name": "Get_Shows.ipynb",
      "provenance": [],
      "collapsed_sections": [],
      "toc_visible": true
    },
    "kernelspec": {
      "name": "python3",
      "display_name": "Python 3"
    }
  },
  "cells": [
    {
      "cell_type": "code",
      "metadata": {
        "id": "UhHea5RwJQPo",
        "colab_type": "code",
        "colab": {}
      },
      "source": [
        "import pandas as pd\n",
        "import requests\n",
        "import bs4\n",
        "GENRE_TYPES = 'Talk-Show|News'\n",
        "# IMDB_PROFESSION_TYPES = 'actor|actress|miscellaneous|Null'"
      ],
      "execution_count": 1,
      "outputs": []
    },
    {
      "cell_type": "markdown",
      "metadata": {
        "id": "y_UZ0KrTUeBr",
        "colab_type": "text"
      },
      "source": [
        "##Get nconst by using anchor name and pull year"
      ]
    },
    {
      "cell_type": "code",
      "metadata": {
        "id": "jHf8YOPfJUeB",
        "colab_type": "code",
        "colab": {}
      },
      "source": [
        "def get_nconst(Anchor_Name,Pull_Year):\n",
        "\n",
        "  Read_Titlebasics = pd.read_table('/content/drive/My Drive/Datasets/title.basics.tsv/data.tsv', sep='\\t')\n",
        "  Read_Namebasics = pd.read_table('/content/drive/My Drive/Datasets/name.basics.tsv/data.tsv', sep='\\t')\n",
        "\n",
        "  Read_Namebasics.primaryProfession = Read_Namebasics.primaryProfession.fillna(\"Null\")\n",
        "  filter_year = Read_Namebasics[Read_Namebasics.deathYear >= Pull_Year]\n",
        "  Search_name = filter_year[filter_year.primaryName == Anchor_Name]\n",
        "  # filter_profession = Search_name[Search_name.primaryProfession.str.contains(IMDB_PROFESSION_TYPES)]\n",
        "  # return filter_profession\n",
        "  # return Search_name\n",
        "  # return len(filter_profession.index)\n",
        "  if len(Search_name.index) == 1:\n",
        "    for index, row in Search_name.iterrows():\n",
        "      prepare_list_kft = row.knownForTitles.split(',')\n",
        "      return [row,prepare_list_kft]\n",
        "  # else:\n",
        "\n",
        "  #   query = Anchor_Name\n",
        "  #   query = query.replace(' ', '+')\n",
        "  #   url = f\"https://google.com/search?q={query}\"\n",
        "  #   response = requests.get(url)\n",
        "  #   response.raise_for_status()\n",
        "  #   knowledge_panel_content = bs4.BeautifulSoup(response.text, 'html.parser')\n",
        "\n",
        "  #   list_content = []\n",
        "  #   for i in knowledge_panel_content.select('span'):\n",
        "  #     list_content.append(i.getText())\n",
        "  #   if \"Born\" in list_content:\n",
        "  #     born_index = list_content.index(\"Born\")\n",
        "  #     dob = list_content[born_index+2]\n",
        "  #     exact_year=dob.split(', ')[1].split(' (')[0]\n",
        "  #     # print(exact_year)\n",
        "\n",
        "  #     filter_dob = (Search_name[Search_name.birthYear ==exact_year])\n",
        "  #     # print(filter_dob)\n",
        "  #     # print(filter_dob.knownForTitles)\n",
        "  #     for index, row in filter_dob.iterrows():\n",
        "  #       prepare_list_kft = row.knownForTitles.split(',')\n",
        "  #       return [row,prepare_list_kft]\n",
        "  else:\n",
        "    # return Search_name\n",
        "    # qwe = Search_name[Search_name.knownForTitles]\n",
        "    # return qwe\n",
        "\n",
        "    for index, row in Search_name.iterrows():\n",
        "      prepare_list_kft = row.knownForTitles.split(',')\n",
        "    \n",
        "      # print(prepare_list_kft)\n",
        "      for i in prepare_list_kft:\n",
        "        # print(i)\n",
        "        # print(Read_Titlebasics)\n",
        "        take_title = Read_Titlebasics[Read_Titlebasics.tconst == i]\n",
        "        # print(take_title) \n",
        "        check_genres = take_title[take_title.genres.str.contains(GENRE_TYPES)]\n",
        "        # print(check_genres)\n",
        "        if len(check_genres.index) == 1:\n",
        "          print(prepare_list_kft)\n",
        "          print(check_genres)\n",
        "          return [row,prepare_list_kft]"
      ],
      "execution_count": 2,
      "outputs": []
    },
    {
      "cell_type": "code",
      "metadata": {
        "id": "pl3oBJQ7KIVz",
        "colab_type": "code",
        "colab": {
          "base_uri": "https://localhost:8080/",
          "height": 292
        },
        "outputId": "7f5cbf60-22b0-4bda-ceb2-0fb5a7ed3387"
      },
      "source": [
        "get_nconst(\"Jim Clancy\",\"2006\")[0]"
      ],
      "execution_count": 4,
      "outputs": [
        {
          "output_type": "stream",
          "text": [
            "/usr/local/lib/python3.6/dist-packages/IPython/core/interactiveshell.py:2828: DtypeWarning: Columns (5) have mixed types.Specify dtype option on import or set low_memory=False.\n",
            "  if self.run_code(code, result):\n"
          ],
          "name": "stderr"
        },
        {
          "output_type": "stream",
          "text": [
            "['tt2788528', 'tt1160318', 'tt2364518', 'tt0827984']\n",
            "            tconst  titleType  ... runtimeMinutes genres\n",
            "3415890  tt2788528  tvSpecial  ...             \\N   News\n",
            "\n",
            "[1 rows x 9 columns]\n"
          ],
          "name": "stdout"
        },
        {
          "output_type": "execute_result",
          "data": {
            "text/plain": [
              "nconst                                             nm2330770\n",
              "primaryName                                       Jim Clancy\n",
              "birthYear                                                 \\N\n",
              "deathYear                                                 \\N\n",
              "primaryProfession                            writer,producer\n",
              "knownForTitles       tt2788528,tt1160318,tt2364518,tt0827984\n",
              "Name: 3416014, dtype: object"
            ]
          },
          "metadata": {
            "tags": []
          },
          "execution_count": 4
        }
      ]
    },
    {
      "cell_type": "code",
      "metadata": {
        "id": "y75s9BeQnSdL",
        "colab_type": "code",
        "colab": {
          "base_uri": "https://localhost:8080/",
          "height": 92
        },
        "outputId": "f56ed8fb-d101-4cd8-c1fc-a1c4abc693bb"
      },
      "source": [
        "get_nconst(\"Colleen Williams\",\"2006\")[1]"
      ],
      "execution_count": 15,
      "outputs": [
        {
          "output_type": "stream",
          "text": [
            "/usr/local/lib/python3.6/dist-packages/IPython/core/interactiveshell.py:2828: DtypeWarning: Columns (5) have mixed types.Specify dtype option on import or set low_memory=False.\n",
            "  if self.run_code(code, result):\n"
          ],
          "name": "stderr"
        },
        {
          "output_type": "execute_result",
          "data": {
            "text/plain": [
              "['tt0256549', 'tt0382458', 'tt3444938']"
            ]
          },
          "metadata": {
            "tags": []
          },
          "execution_count": 15
        }
      ]
    },
    {
      "cell_type": "code",
      "metadata": {
        "id": "Hp4q2XuxltOs",
        "colab_type": "code",
        "colab": {
          "base_uri": "https://localhost:8080/",
          "height": 135
        },
        "outputId": "8d759c94-9033-4939-f09f-01426ad9ffc0"
      },
      "source": [
        "get_nconst(\"Colleen Williams\",\"2006\")[0]"
      ],
      "execution_count": 14,
      "outputs": [
        {
          "output_type": "stream",
          "text": [
            "/usr/local/lib/python3.6/dist-packages/IPython/core/interactiveshell.py:2828: DtypeWarning: Columns (5) have mixed types.Specify dtype option on import or set low_memory=False.\n",
            "  if self.run_code(code, result):\n"
          ],
          "name": "stderr"
        },
        {
          "output_type": "execute_result",
          "data": {
            "text/html": [
              "<div>\n",
              "<style scoped>\n",
              "    .dataframe tbody tr th:only-of-type {\n",
              "        vertical-align: middle;\n",
              "    }\n",
              "\n",
              "    .dataframe tbody tr th {\n",
              "        vertical-align: top;\n",
              "    }\n",
              "\n",
              "    .dataframe thead th {\n",
              "        text-align: right;\n",
              "    }\n",
              "</style>\n",
              "<table border=\"1\" class=\"dataframe\">\n",
              "  <thead>\n",
              "    <tr style=\"text-align: right;\">\n",
              "      <th></th>\n",
              "      <th>nconst</th>\n",
              "      <th>primaryName</th>\n",
              "      <th>birthYear</th>\n",
              "      <th>deathYear</th>\n",
              "      <th>primaryProfession</th>\n",
              "      <th>knownForTitles</th>\n",
              "    </tr>\n",
              "  </thead>\n",
              "  <tbody>\n",
              "    <tr>\n",
              "      <th>2673061</th>\n",
              "      <td>nm1497536</td>\n",
              "      <td>Colleen Williams</td>\n",
              "      <td>1955</td>\n",
              "      <td>\\N</td>\n",
              "      <td>Null</td>\n",
              "      <td>tt0256549,tt0382458,tt3444938</td>\n",
              "    </tr>\n",
              "  </tbody>\n",
              "</table>\n",
              "</div>"
            ],
            "text/plain": [
              "            nconst  ...                 knownForTitles\n",
              "2673061  nm1497536  ...  tt0256549,tt0382458,tt3444938\n",
              "\n",
              "[1 rows x 6 columns]"
            ]
          },
          "metadata": {
            "tags": []
          },
          "execution_count": 14
        }
      ]
    },
    {
      "cell_type": "markdown",
      "metadata": {
        "id": "BRecqE7jU1_D",
        "colab_type": "text"
      },
      "source": [
        "## Getting all shows"
      ]
    },
    {
      "cell_type": "code",
      "metadata": {
        "id": "w-8wPMRDrHxs",
        "colab_type": "code",
        "colab": {}
      },
      "source": [
        "def get_all_shows(nConst):\n",
        "  chunksize = 6*10**6\n",
        "  titleprincipal = pd.read_table('/content/drive/My Drive/Datasets/title.principals.tsv.gz', chunksize = chunksize)\n",
        "  all_shows = pd.DataFrame(columns=['tconst', 'ordering', 'nconst', 'category', 'job', 'characters'])\n",
        "  #Initializing with the same columns as title.principals\n",
        "  for i,chunk in enumerate((titleprincipal)):\n",
        "    req_shows = chunk[chunk['nconst'] == nConst]\n",
        "    print(' {} shows in chunk {}'.format(len(req_shows), i))\n",
        "    all_shows = all_shows.append(req_shows, ignore_index = True)\n",
        "    # filter_category = all_shows[all_shows.category == 'self']\n",
        "\n",
        "  return all_shows.tconst.tolist()"
      ],
      "execution_count": 3,
      "outputs": []
    },
    {
      "cell_type": "code",
      "metadata": {
        "id": "BSgZFUWfAr3t",
        "colab_type": "code",
        "colab": {
          "base_uri": "https://localhost:8080/",
          "height": 219
        },
        "outputId": "835938ad-cecb-4223-93bb-6225f746cbd4"
      },
      "source": [
        "get_all_shows(get_nconst(\"Tony Harris\",\"2006\")[0].nconst)"
      ],
      "execution_count": 10,
      "outputs": [
        {
          "output_type": "stream",
          "text": [
            "/usr/local/lib/python3.6/dist-packages/IPython/core/interactiveshell.py:2828: DtypeWarning: Columns (5) have mixed types.Specify dtype option on import or set low_memory=False.\n",
            "  if self.run_code(code, result):\n"
          ],
          "name": "stderr"
        },
        {
          "output_type": "stream",
          "text": [
            " 0 shows in chunk 0\n",
            " 0 shows in chunk 1\n",
            " 0 shows in chunk 2\n",
            " 0 shows in chunk 3\n",
            " 0 shows in chunk 4\n",
            " 1 shows in chunk 5\n",
            " 0 shows in chunk 6\n"
          ],
          "name": "stdout"
        },
        {
          "output_type": "execute_result",
          "data": {
            "text/plain": [
              "['tt7005704']"
            ]
          },
          "metadata": {
            "tags": []
          },
          "execution_count": 10
        }
      ]
    },
    {
      "cell_type": "code",
      "metadata": {
        "id": "ZCew2M_Vr2LV",
        "colab_type": "code",
        "colab": {}
      },
      "source": [
        "Shows_list = list(set().union(get_nconst(\"Colleen Williams\",\"2006\")[1],get_all_shows(get_nconst(\"Colleen Williams\",\"2006\")[0].nconst)))\n",
        "Shows_list"
      ],
      "execution_count": null,
      "outputs": []
    },
    {
      "cell_type": "code",
      "metadata": {
        "id": "ZMqLGDZjxN-q",
        "colab_type": "code",
        "colab": {
          "base_uri": "https://localhost:8080/",
          "height": 540
        },
        "outputId": "96e5c4d5-115c-4dd7-8b2e-233160ea0b28"
      },
      "source": [
        "Shows_list =[] \n",
        "Combine_list = list(set().union(get_nconst(\"Colleen Williams\",\"2006\")[1],get_all_shows(get_nconst(\"Colleen Williams\",\"2006\")[0].nconst)))\n",
        "titleakas = pd.read_table('/content/drive/My Drive/Datasets/title.akas.tsv/data.tsv', sep='\\t')\n",
        "# titleakas_US = titleakas[titleakas.region == 'US']\n",
        "for title in Combine_list:  \n",
        "  titleakas_titles = titleakas[titleakas.titleId == title]\n",
        "  print(titleakas_titles)\n",
        "  x = (titleakas_titles.region == 'US')\n",
        "  print(x)\n",
        "  if x is True:\n",
        "    Shows_list.append(titleakas_titles.titleId)\n",
        "    print(Shows_list)\n",
        "  else:\n",
        "    print('Not found')"
      ],
      "execution_count": 6,
      "outputs": [
        {
          "output_type": "error",
          "ename": "KeyboardInterrupt",
          "evalue": "ignored",
          "traceback": [
            "\u001b[0;31m---------------------------------------------------------------------------\u001b[0m",
            "\u001b[0;31mKeyboardInterrupt\u001b[0m                         Traceback (most recent call last)",
            "\u001b[0;32m<ipython-input-6-547bb1c1c907>\u001b[0m in \u001b[0;36m<module>\u001b[0;34m()\u001b[0m\n\u001b[1;32m      1\u001b[0m \u001b[0mShows_list\u001b[0m \u001b[0;34m=\u001b[0m\u001b[0;34m[\u001b[0m\u001b[0;34m]\u001b[0m\u001b[0;34m\u001b[0m\u001b[0;34m\u001b[0m\u001b[0m\n\u001b[0;32m----> 2\u001b[0;31m \u001b[0mCombine_list\u001b[0m \u001b[0;34m=\u001b[0m \u001b[0mlist\u001b[0m\u001b[0;34m(\u001b[0m\u001b[0mset\u001b[0m\u001b[0;34m(\u001b[0m\u001b[0;34m)\u001b[0m\u001b[0;34m.\u001b[0m\u001b[0munion\u001b[0m\u001b[0;34m(\u001b[0m\u001b[0mget_nconst\u001b[0m\u001b[0;34m(\u001b[0m\u001b[0;34m\"Colleen Williams\"\u001b[0m\u001b[0;34m,\u001b[0m\u001b[0;34m\"2006\"\u001b[0m\u001b[0;34m)\u001b[0m\u001b[0;34m[\u001b[0m\u001b[0;36m1\u001b[0m\u001b[0;34m]\u001b[0m\u001b[0;34m,\u001b[0m\u001b[0mget_all_shows\u001b[0m\u001b[0;34m(\u001b[0m\u001b[0mget_nconst\u001b[0m\u001b[0;34m(\u001b[0m\u001b[0;34m\"Colleen Williams\"\u001b[0m\u001b[0;34m,\u001b[0m\u001b[0;34m\"2006\"\u001b[0m\u001b[0;34m)\u001b[0m\u001b[0;34m[\u001b[0m\u001b[0;36m0\u001b[0m\u001b[0;34m]\u001b[0m\u001b[0;34m.\u001b[0m\u001b[0mnconst\u001b[0m\u001b[0;34m)\u001b[0m\u001b[0;34m)\u001b[0m\u001b[0;34m)\u001b[0m\u001b[0;34m\u001b[0m\u001b[0;34m\u001b[0m\u001b[0m\n\u001b[0m\u001b[1;32m      3\u001b[0m \u001b[0mtitleakas\u001b[0m \u001b[0;34m=\u001b[0m \u001b[0mpd\u001b[0m\u001b[0;34m.\u001b[0m\u001b[0mread_table\u001b[0m\u001b[0;34m(\u001b[0m\u001b[0;34m'/content/drive/My Drive/Datasets/title.akas.tsv/data.tsv'\u001b[0m\u001b[0;34m,\u001b[0m \u001b[0msep\u001b[0m\u001b[0;34m=\u001b[0m\u001b[0;34m'\\t'\u001b[0m\u001b[0;34m)\u001b[0m\u001b[0;34m\u001b[0m\u001b[0;34m\u001b[0m\u001b[0m\n\u001b[1;32m      4\u001b[0m \u001b[0;31m# titleakas_US = titleakas[titleakas.region == 'US']\u001b[0m\u001b[0;34m\u001b[0m\u001b[0;34m\u001b[0m\u001b[0;34m\u001b[0m\u001b[0m\n\u001b[1;32m      5\u001b[0m \u001b[0;32mfor\u001b[0m \u001b[0mtitle\u001b[0m \u001b[0;32min\u001b[0m \u001b[0mCombine_list\u001b[0m\u001b[0;34m:\u001b[0m\u001b[0;34m\u001b[0m\u001b[0;34m\u001b[0m\u001b[0m\n",
            "\u001b[0;32m<ipython-input-4-0d325a76c037>\u001b[0m in \u001b[0;36mget_nconst\u001b[0;34m(Anchor_Name, Pull_Year)\u001b[0m\n\u001b[1;32m      2\u001b[0m \u001b[0;34m\u001b[0m\u001b[0m\n\u001b[1;32m      3\u001b[0m   \u001b[0;31m# Read_Titlebabasics = pd.read_table('/content/drive/My Drive/Datasets/title.basics.tsv/data.tsv', sep='\\t')\u001b[0m\u001b[0;34m\u001b[0m\u001b[0;34m\u001b[0m\u001b[0;34m\u001b[0m\u001b[0m\n\u001b[0;32m----> 4\u001b[0;31m   \u001b[0mRead_Namebasics\u001b[0m \u001b[0;34m=\u001b[0m \u001b[0mpd\u001b[0m\u001b[0;34m.\u001b[0m\u001b[0mread_table\u001b[0m\u001b[0;34m(\u001b[0m\u001b[0;34m'/content/drive/My Drive/Datasets/name.basics.tsv/data.tsv'\u001b[0m\u001b[0;34m,\u001b[0m \u001b[0msep\u001b[0m\u001b[0;34m=\u001b[0m\u001b[0;34m'\\t'\u001b[0m\u001b[0;34m)\u001b[0m\u001b[0;34m\u001b[0m\u001b[0;34m\u001b[0m\u001b[0m\n\u001b[0m\u001b[1;32m      5\u001b[0m \u001b[0;34m\u001b[0m\u001b[0m\n\u001b[1;32m      6\u001b[0m   \u001b[0mRead_Namebasics\u001b[0m\u001b[0;34m.\u001b[0m\u001b[0mprimaryProfession\u001b[0m \u001b[0;34m=\u001b[0m \u001b[0mRead_Namebasics\u001b[0m\u001b[0;34m.\u001b[0m\u001b[0mprimaryProfession\u001b[0m\u001b[0;34m.\u001b[0m\u001b[0mfillna\u001b[0m\u001b[0;34m(\u001b[0m\u001b[0;34m\"Null\"\u001b[0m\u001b[0;34m)\u001b[0m\u001b[0;34m\u001b[0m\u001b[0;34m\u001b[0m\u001b[0m\n",
            "\u001b[0;32m/usr/local/lib/python3.6/dist-packages/pandas/io/parsers.py\u001b[0m in \u001b[0;36mparser_f\u001b[0;34m(filepath_or_buffer, sep, delimiter, header, names, index_col, usecols, squeeze, prefix, mangle_dupe_cols, dtype, engine, converters, true_values, false_values, skipinitialspace, skiprows, skipfooter, nrows, na_values, keep_default_na, na_filter, verbose, skip_blank_lines, parse_dates, infer_datetime_format, keep_date_col, date_parser, dayfirst, cache_dates, iterator, chunksize, compression, thousands, decimal, lineterminator, quotechar, quoting, doublequote, escapechar, comment, encoding, dialect, error_bad_lines, warn_bad_lines, delim_whitespace, low_memory, memory_map, float_precision)\u001b[0m\n\u001b[1;32m    674\u001b[0m         )\n\u001b[1;32m    675\u001b[0m \u001b[0;34m\u001b[0m\u001b[0m\n\u001b[0;32m--> 676\u001b[0;31m         \u001b[0;32mreturn\u001b[0m \u001b[0m_read\u001b[0m\u001b[0;34m(\u001b[0m\u001b[0mfilepath_or_buffer\u001b[0m\u001b[0;34m,\u001b[0m \u001b[0mkwds\u001b[0m\u001b[0;34m)\u001b[0m\u001b[0;34m\u001b[0m\u001b[0;34m\u001b[0m\u001b[0m\n\u001b[0m\u001b[1;32m    677\u001b[0m \u001b[0;34m\u001b[0m\u001b[0m\n\u001b[1;32m    678\u001b[0m     \u001b[0mparser_f\u001b[0m\u001b[0;34m.\u001b[0m\u001b[0m__name__\u001b[0m \u001b[0;34m=\u001b[0m \u001b[0mname\u001b[0m\u001b[0;34m\u001b[0m\u001b[0;34m\u001b[0m\u001b[0m\n",
            "\u001b[0;32m/usr/local/lib/python3.6/dist-packages/pandas/io/parsers.py\u001b[0m in \u001b[0;36m_read\u001b[0;34m(filepath_or_buffer, kwds)\u001b[0m\n\u001b[1;32m    452\u001b[0m \u001b[0;34m\u001b[0m\u001b[0m\n\u001b[1;32m    453\u001b[0m     \u001b[0;32mtry\u001b[0m\u001b[0;34m:\u001b[0m\u001b[0;34m\u001b[0m\u001b[0;34m\u001b[0m\u001b[0m\n\u001b[0;32m--> 454\u001b[0;31m         \u001b[0mdata\u001b[0m \u001b[0;34m=\u001b[0m \u001b[0mparser\u001b[0m\u001b[0;34m.\u001b[0m\u001b[0mread\u001b[0m\u001b[0;34m(\u001b[0m\u001b[0mnrows\u001b[0m\u001b[0;34m)\u001b[0m\u001b[0;34m\u001b[0m\u001b[0;34m\u001b[0m\u001b[0m\n\u001b[0m\u001b[1;32m    455\u001b[0m     \u001b[0;32mfinally\u001b[0m\u001b[0;34m:\u001b[0m\u001b[0;34m\u001b[0m\u001b[0;34m\u001b[0m\u001b[0m\n\u001b[1;32m    456\u001b[0m         \u001b[0mparser\u001b[0m\u001b[0;34m.\u001b[0m\u001b[0mclose\u001b[0m\u001b[0;34m(\u001b[0m\u001b[0;34m)\u001b[0m\u001b[0;34m\u001b[0m\u001b[0;34m\u001b[0m\u001b[0m\n",
            "\u001b[0;32m/usr/local/lib/python3.6/dist-packages/pandas/io/parsers.py\u001b[0m in \u001b[0;36mread\u001b[0;34m(self, nrows)\u001b[0m\n\u001b[1;32m   1131\u001b[0m     \u001b[0;32mdef\u001b[0m \u001b[0mread\u001b[0m\u001b[0;34m(\u001b[0m\u001b[0mself\u001b[0m\u001b[0;34m,\u001b[0m \u001b[0mnrows\u001b[0m\u001b[0;34m=\u001b[0m\u001b[0;32mNone\u001b[0m\u001b[0;34m)\u001b[0m\u001b[0;34m:\u001b[0m\u001b[0;34m\u001b[0m\u001b[0;34m\u001b[0m\u001b[0m\n\u001b[1;32m   1132\u001b[0m         \u001b[0mnrows\u001b[0m \u001b[0;34m=\u001b[0m \u001b[0m_validate_integer\u001b[0m\u001b[0;34m(\u001b[0m\u001b[0;34m\"nrows\"\u001b[0m\u001b[0;34m,\u001b[0m \u001b[0mnrows\u001b[0m\u001b[0;34m)\u001b[0m\u001b[0;34m\u001b[0m\u001b[0;34m\u001b[0m\u001b[0m\n\u001b[0;32m-> 1133\u001b[0;31m         \u001b[0mret\u001b[0m \u001b[0;34m=\u001b[0m \u001b[0mself\u001b[0m\u001b[0;34m.\u001b[0m\u001b[0m_engine\u001b[0m\u001b[0;34m.\u001b[0m\u001b[0mread\u001b[0m\u001b[0;34m(\u001b[0m\u001b[0mnrows\u001b[0m\u001b[0;34m)\u001b[0m\u001b[0;34m\u001b[0m\u001b[0;34m\u001b[0m\u001b[0m\n\u001b[0m\u001b[1;32m   1134\u001b[0m \u001b[0;34m\u001b[0m\u001b[0m\n\u001b[1;32m   1135\u001b[0m         \u001b[0;31m# May alter columns / col_dict\u001b[0m\u001b[0;34m\u001b[0m\u001b[0;34m\u001b[0m\u001b[0;34m\u001b[0m\u001b[0m\n",
            "\u001b[0;32m/usr/local/lib/python3.6/dist-packages/pandas/io/parsers.py\u001b[0m in \u001b[0;36mread\u001b[0;34m(self, nrows)\u001b[0m\n\u001b[1;32m   2035\u001b[0m     \u001b[0;32mdef\u001b[0m \u001b[0mread\u001b[0m\u001b[0;34m(\u001b[0m\u001b[0mself\u001b[0m\u001b[0;34m,\u001b[0m \u001b[0mnrows\u001b[0m\u001b[0;34m=\u001b[0m\u001b[0;32mNone\u001b[0m\u001b[0;34m)\u001b[0m\u001b[0;34m:\u001b[0m\u001b[0;34m\u001b[0m\u001b[0;34m\u001b[0m\u001b[0m\n\u001b[1;32m   2036\u001b[0m         \u001b[0;32mtry\u001b[0m\u001b[0;34m:\u001b[0m\u001b[0;34m\u001b[0m\u001b[0;34m\u001b[0m\u001b[0m\n\u001b[0;32m-> 2037\u001b[0;31m             \u001b[0mdata\u001b[0m \u001b[0;34m=\u001b[0m \u001b[0mself\u001b[0m\u001b[0;34m.\u001b[0m\u001b[0m_reader\u001b[0m\u001b[0;34m.\u001b[0m\u001b[0mread\u001b[0m\u001b[0;34m(\u001b[0m\u001b[0mnrows\u001b[0m\u001b[0;34m)\u001b[0m\u001b[0;34m\u001b[0m\u001b[0;34m\u001b[0m\u001b[0m\n\u001b[0m\u001b[1;32m   2038\u001b[0m         \u001b[0;32mexcept\u001b[0m \u001b[0mStopIteration\u001b[0m\u001b[0;34m:\u001b[0m\u001b[0;34m\u001b[0m\u001b[0;34m\u001b[0m\u001b[0m\n\u001b[1;32m   2039\u001b[0m             \u001b[0;32mif\u001b[0m \u001b[0mself\u001b[0m\u001b[0;34m.\u001b[0m\u001b[0m_first_chunk\u001b[0m\u001b[0;34m:\u001b[0m\u001b[0;34m\u001b[0m\u001b[0;34m\u001b[0m\u001b[0m\n",
            "\u001b[0;32mpandas/_libs/parsers.pyx\u001b[0m in \u001b[0;36mpandas._libs.parsers.TextReader.read\u001b[0;34m()\u001b[0m\n",
            "\u001b[0;32mpandas/_libs/parsers.pyx\u001b[0m in \u001b[0;36mpandas._libs.parsers.TextReader._read_low_memory\u001b[0;34m()\u001b[0m\n",
            "\u001b[0;32mpandas/_libs/parsers.pyx\u001b[0m in \u001b[0;36mpandas._libs.parsers.TextReader._read_rows\u001b[0;34m()\u001b[0m\n",
            "\u001b[0;32mpandas/_libs/parsers.pyx\u001b[0m in \u001b[0;36mpandas._libs.parsers.TextReader._convert_column_data\u001b[0;34m()\u001b[0m\n",
            "\u001b[0;32m/usr/local/lib/python3.6/dist-packages/pandas/core/dtypes/common.py\u001b[0m in \u001b[0;36mis_extension_array_dtype\u001b[0;34m(arr_or_dtype)\u001b[0m\n\u001b[1;32m   1563\u001b[0m \u001b[0;34m\u001b[0m\u001b[0m\n\u001b[1;32m   1564\u001b[0m \u001b[0;34m\u001b[0m\u001b[0m\n\u001b[0;32m-> 1565\u001b[0;31m \u001b[0;32mdef\u001b[0m \u001b[0mis_extension_array_dtype\u001b[0m\u001b[0;34m(\u001b[0m\u001b[0marr_or_dtype\u001b[0m\u001b[0;34m)\u001b[0m \u001b[0;34m->\u001b[0m \u001b[0mbool\u001b[0m\u001b[0;34m:\u001b[0m\u001b[0;34m\u001b[0m\u001b[0;34m\u001b[0m\u001b[0m\n\u001b[0m\u001b[1;32m   1566\u001b[0m     \"\"\"\n\u001b[1;32m   1567\u001b[0m     \u001b[0mCheck\u001b[0m \u001b[0;32mif\u001b[0m \u001b[0man\u001b[0m \u001b[0mobject\u001b[0m \u001b[0;32mis\u001b[0m \u001b[0ma\u001b[0m \u001b[0mpandas\u001b[0m \u001b[0mextension\u001b[0m \u001b[0marray\u001b[0m \u001b[0mtype\u001b[0m\u001b[0;34m.\u001b[0m\u001b[0;34m\u001b[0m\u001b[0;34m\u001b[0m\u001b[0m\n",
            "\u001b[0;31mKeyboardInterrupt\u001b[0m: "
          ]
        }
      ]
    },
    {
      "cell_type": "markdown",
      "metadata": {
        "id": "DBuWWgoJVB4d",
        "colab_type": "text"
      },
      "source": [
        "##Getting selected show by using filters"
      ]
    },
    {
      "cell_type": "code",
      "metadata": {
        "id": "GmIw2ktfAwti",
        "colab_type": "code",
        "colab": {
          "base_uri": "https://localhost:8080/",
          "height": 365
        },
        "outputId": "c2140e49-f606-4d35-c0e1-df61c03320b1"
      },
      "source": [
        "Combine_list = set().union(get_nconst(\"Matt Lauer\",\"2006\")[1],get_all_shows(get_nconst(\"Matt Lauer\",\"2006\")[0].nconst))\n",
        "\n",
        "# All_shows = get_all_shows('nm8253813')\n",
        "# tConsts = set(All_shows['tconst'])\n",
        "tConsts= Combine_list\n",
        "\n",
        "chunksize = 6*10**6\n",
        "\n",
        "titlebasics = pd.read_table('/content/drive/My Drive/Datasets/title.basics.tsv/data.tsv', chunksize = chunksize)\n",
        "Show_Names = pd.DataFrame(columns=['tconst', 'titleType', 'primaryTitle', 'originalTitle', 'isAdult', 'startYear', 'endYear', 'runtimeMinutes', 'genres'])\n",
        "for i,chunk in enumerate(titlebasics):\n",
        "  show_names = chunk[chunk['tconst'].isin(tConsts)]\n",
        "  # show_names = chunk[chunk['tconst'] == 'tt2788528']\n",
        "  print('{} shows in chunk {}'.format(len(show_names), i))\n",
        "  Show_Names = Show_Names.append(show_names, ignore_index = True)\n",
        "  # print(Show_Names)\n",
        "  filter_title_type = Show_Names[Show_Names['titleType']=='tvSeries']\n",
        "  filter_genres = filter_title_type[filter_title_type.genres.str.contains(GENRE_TYPES)]\n",
        "  filter_end_year = filter_genres[filter_genres.endYear >= '2006']\n",
        "  filter_start_year = filter_end_year[filter_end_year.startYear.apply(str) <='2006']\n",
        "filter_start_year\n",
        "# print(Primary_title_list)\n",
        "\n",
        "\n",
        "# titleakas = pd.read_table('/content/drive/My Drive/Datasets/title.akas.tsv/data.tsv', sep='\\t')\n",
        "# titleakas.region = titleakas.region.fillna(\"US\")\n",
        "# Shows_list = []\n",
        "# for i, title_name in enumerate(Primary_title_list):  \n",
        "#   titleakas_titles = titleakas[titleakas.title == title_name]\n",
        "#   # print(titleakas_titles)\n",
        "#   x = (titleakas_titles.region == 'US')\n",
        "#   # print(x)\n",
        "#   if x is True:\n",
        "#     Shows_list.append(title_name)\n",
        "#     print(Shows_list)\n"
      ],
      "execution_count": 4,
      "outputs": [
        {
          "output_type": "stream",
          "text": [
            "/usr/local/lib/python3.6/dist-packages/IPython/core/interactiveshell.py:2822: DtypeWarning: Columns (5) have mixed types.Specify dtype option on import or set low_memory=False.\n",
            "  if self.run_code(code, result):\n"
          ],
          "name": "stderr"
        },
        {
          "output_type": "stream",
          "text": [
            " 43 shows in chunk 0\n",
            " 70 shows in chunk 1\n",
            " 128 shows in chunk 2\n",
            " 118 shows in chunk 3\n",
            " 385 shows in chunk 4\n",
            " 258 shows in chunk 5\n",
            " 3 shows in chunk 6\n"
          ],
          "name": "stdout"
        },
        {
          "output_type": "stream",
          "text": [
            "/usr/local/lib/python3.6/dist-packages/IPython/core/interactiveshell.py:2718: DtypeWarning: Columns (5) have mixed types.Specify dtype option on import or set low_memory=False.\n",
            "  interactivity=interactivity, compiler=compiler, result=result)\n"
          ],
          "name": "stderr"
        },
        {
          "output_type": "stream",
          "text": [
            "1006 shows in chunk 0\n",
            "3 shows in chunk 1\n"
          ],
          "name": "stdout"
        },
        {
          "output_type": "execute_result",
          "data": {
            "text/html": [
              "<div>\n",
              "<style scoped>\n",
              "    .dataframe tbody tr th:only-of-type {\n",
              "        vertical-align: middle;\n",
              "    }\n",
              "\n",
              "    .dataframe tbody tr th {\n",
              "        vertical-align: top;\n",
              "    }\n",
              "\n",
              "    .dataframe thead th {\n",
              "        text-align: right;\n",
              "    }\n",
              "</style>\n",
              "<table border=\"1\" class=\"dataframe\">\n",
              "  <thead>\n",
              "    <tr style=\"text-align: right;\">\n",
              "      <th></th>\n",
              "      <th>tconst</th>\n",
              "      <th>titleType</th>\n",
              "      <th>primaryTitle</th>\n",
              "      <th>originalTitle</th>\n",
              "      <th>isAdult</th>\n",
              "      <th>startYear</th>\n",
              "      <th>endYear</th>\n",
              "      <th>runtimeMinutes</th>\n",
              "      <th>genres</th>\n",
              "    </tr>\n",
              "  </thead>\n",
              "  <tbody>\n",
              "    <tr>\n",
              "      <th>0</th>\n",
              "      <td>tt0044298</td>\n",
              "      <td>tvSeries</td>\n",
              "      <td>Today</td>\n",
              "      <td>Today</td>\n",
              "      <td>0</td>\n",
              "      <td>1952</td>\n",
              "      <td>\\N</td>\n",
              "      <td>240</td>\n",
              "      <td>News,Talk-Show</td>\n",
              "    </tr>\n",
              "    <tr>\n",
              "      <th>3</th>\n",
              "      <td>tt0261484</td>\n",
              "      <td>tvSeries</td>\n",
              "      <td>NewsChannel 4</td>\n",
              "      <td>NewsChannel 4</td>\n",
              "      <td>0</td>\n",
              "      <td>1995</td>\n",
              "      <td>\\N</td>\n",
              "      <td>\\N</td>\n",
              "      <td>News</td>\n",
              "    </tr>\n",
              "  </tbody>\n",
              "</table>\n",
              "</div>"
            ],
            "text/plain": [
              "      tconst titleType   primaryTitle  ... endYear runtimeMinutes          genres\n",
              "0  tt0044298  tvSeries          Today  ...      \\N            240  News,Talk-Show\n",
              "3  tt0261484  tvSeries  NewsChannel 4  ...      \\N             \\N            News\n",
              "\n",
              "[2 rows x 9 columns]"
            ]
          },
          "metadata": {
            "tags": []
          },
          "execution_count": 4
        }
      ]
    },
    {
      "cell_type": "code",
      "metadata": {
        "id": "gBacbKkEqXcc",
        "colab_type": "code",
        "colab": {
          "base_uri": "https://localhost:8080/",
          "height": 365
        },
        "outputId": "27fbf47e-998e-4d47-b595-5e5bf431a34a"
      },
      "source": [
        "Combine_list = set().union(get_nconst(\"Katie Couric\",\"2006\")[1],get_all_shows(get_nconst(\"Katie Couric\",\"2006\")[0].nconst))\n",
        "\n",
        "# All_shows = get_all_shows('nm8253813')\n",
        "# tConsts = set(All_shows['tconst'])\n",
        "tConsts= Combine_list\n",
        "\n",
        "chunksize = 6*10**6\n",
        "\n",
        "titlebasics = pd.read_table('/content/drive/My Drive/Datasets/title.basics.tsv/data.tsv', chunksize = chunksize)\n",
        "Show_Names = pd.DataFrame(columns=['tconst', 'titleType', 'primaryTitle', 'originalTitle', 'isAdult', 'startYear', 'endYear', 'runtimeMinutes', 'genres'])\n",
        "for i,chunk in enumerate(titlebasics):\n",
        "  show_names = chunk[chunk['tconst'].isin(tConsts)]\n",
        "  # show_names = chunk[chunk['tconst'] == 'tt2788528']\n",
        "  print('{} shows in chunk {}'.format(len(show_names), i))\n",
        "  Show_Names = Show_Names.append(show_names, ignore_index = True)\n",
        "  # print(Show_Names)\n",
        "  filter_title_type = Show_Names[Show_Names['titleType']=='tvSeries']\n",
        "  filter_genres = filter_title_type[filter_title_type.genres.str.contains(GENRE_TYPES)]\n",
        "  filter_end_year = filter_genres[filter_genres.endYear >= '2006']\n",
        "  filter_start_year = filter_end_year[filter_end_year.startYear.apply(str) <='2006']\n",
        "filter_start_year"
      ],
      "execution_count": 5,
      "outputs": [
        {
          "output_type": "stream",
          "text": [
            "/usr/local/lib/python3.6/dist-packages/IPython/core/interactiveshell.py:2822: DtypeWarning: Columns (5) have mixed types.Specify dtype option on import or set low_memory=False.\n",
            "  if self.run_code(code, result):\n"
          ],
          "name": "stderr"
        },
        {
          "output_type": "stream",
          "text": [
            " 67 shows in chunk 0\n",
            " 46 shows in chunk 1\n",
            " 99 shows in chunk 2\n",
            " 363 shows in chunk 3\n",
            " 137 shows in chunk 4\n",
            " 47 shows in chunk 5\n",
            " 13 shows in chunk 6\n"
          ],
          "name": "stdout"
        },
        {
          "output_type": "stream",
          "text": [
            "/usr/local/lib/python3.6/dist-packages/IPython/core/interactiveshell.py:2718: DtypeWarning: Columns (5) have mixed types.Specify dtype option on import or set low_memory=False.\n",
            "  interactivity=interactivity, compiler=compiler, result=result)\n"
          ],
          "name": "stderr"
        },
        {
          "output_type": "stream",
          "text": [
            "762 shows in chunk 0\n",
            "13 shows in chunk 1\n"
          ],
          "name": "stdout"
        },
        {
          "output_type": "execute_result",
          "data": {
            "text/html": [
              "<div>\n",
              "<style scoped>\n",
              "    .dataframe tbody tr th:only-of-type {\n",
              "        vertical-align: middle;\n",
              "    }\n",
              "\n",
              "    .dataframe tbody tr th {\n",
              "        vertical-align: top;\n",
              "    }\n",
              "\n",
              "    .dataframe thead th {\n",
              "        text-align: right;\n",
              "    }\n",
              "</style>\n",
              "<table border=\"1\" class=\"dataframe\">\n",
              "  <thead>\n",
              "    <tr style=\"text-align: right;\">\n",
              "      <th></th>\n",
              "      <th>tconst</th>\n",
              "      <th>titleType</th>\n",
              "      <th>primaryTitle</th>\n",
              "      <th>originalTitle</th>\n",
              "      <th>isAdult</th>\n",
              "      <th>startYear</th>\n",
              "      <th>endYear</th>\n",
              "      <th>runtimeMinutes</th>\n",
              "      <th>genres</th>\n",
              "    </tr>\n",
              "  </thead>\n",
              "  <tbody>\n",
              "    <tr>\n",
              "      <th>12</th>\n",
              "      <td>tt0433290</td>\n",
              "      <td>tvSeries</td>\n",
              "      <td>Fashion in Focus</td>\n",
              "      <td>Fashion in Focus</td>\n",
              "      <td>0</td>\n",
              "      <td>2003</td>\n",
              "      <td>\\N</td>\n",
              "      <td>60</td>\n",
              "      <td>Documentary,News</td>\n",
              "    </tr>\n",
              "    <tr>\n",
              "      <th>67</th>\n",
              "      <td>tt0800281</td>\n",
              "      <td>tvSeries</td>\n",
              "      <td>CBS Evening News with Katie Couric</td>\n",
              "      <td>CBS Evening News with Katie Couric</td>\n",
              "      <td>0</td>\n",
              "      <td>2006</td>\n",
              "      <td>\\N</td>\n",
              "      <td>25</td>\n",
              "      <td>News</td>\n",
              "    </tr>\n",
              "  </tbody>\n",
              "</table>\n",
              "</div>"
            ],
            "text/plain": [
              "       tconst titleType  ... runtimeMinutes            genres\n",
              "12  tt0433290  tvSeries  ...             60  Documentary,News\n",
              "67  tt0800281  tvSeries  ...             25              News\n",
              "\n",
              "[2 rows x 9 columns]"
            ]
          },
          "metadata": {
            "tags": []
          },
          "execution_count": 5
        }
      ]
    },
    {
      "cell_type": "code",
      "metadata": {
        "id": "sDCvgvrelRPu",
        "colab_type": "code",
        "colab": {
          "base_uri": "https://localhost:8080/",
          "height": 108
        },
        "outputId": "f0a3f95d-f4e9-44c8-b6bf-c29c192ca6a4"
      },
      "source": [
        "filter_start_year"
      ],
      "execution_count": 25,
      "outputs": [
        {
          "output_type": "execute_result",
          "data": {
            "text/html": [
              "<div>\n",
              "<style scoped>\n",
              "    .dataframe tbody tr th:only-of-type {\n",
              "        vertical-align: middle;\n",
              "    }\n",
              "\n",
              "    .dataframe tbody tr th {\n",
              "        vertical-align: top;\n",
              "    }\n",
              "\n",
              "    .dataframe thead th {\n",
              "        text-align: right;\n",
              "    }\n",
              "</style>\n",
              "<table border=\"1\" class=\"dataframe\">\n",
              "  <thead>\n",
              "    <tr style=\"text-align: right;\">\n",
              "      <th></th>\n",
              "      <th>tconst</th>\n",
              "      <th>titleType</th>\n",
              "      <th>primaryTitle</th>\n",
              "      <th>originalTitle</th>\n",
              "      <th>isAdult</th>\n",
              "      <th>startYear</th>\n",
              "      <th>endYear</th>\n",
              "      <th>runtimeMinutes</th>\n",
              "      <th>genres</th>\n",
              "    </tr>\n",
              "  </thead>\n",
              "  <tbody>\n",
              "    <tr>\n",
              "      <th>0</th>\n",
              "      <td>tt0044298</td>\n",
              "      <td>tvSeries</td>\n",
              "      <td>Today</td>\n",
              "      <td>Today</td>\n",
              "      <td>0</td>\n",
              "      <td>1952</td>\n",
              "      <td>\\N</td>\n",
              "      <td>240</td>\n",
              "      <td>News,Talk-Show</td>\n",
              "    </tr>\n",
              "    <tr>\n",
              "      <th>3</th>\n",
              "      <td>tt0261484</td>\n",
              "      <td>tvSeries</td>\n",
              "      <td>NewsChannel 4</td>\n",
              "      <td>NewsChannel 4</td>\n",
              "      <td>0</td>\n",
              "      <td>1995</td>\n",
              "      <td>\\N</td>\n",
              "      <td>\\N</td>\n",
              "      <td>News</td>\n",
              "    </tr>\n",
              "  </tbody>\n",
              "</table>\n",
              "</div>"
            ],
            "text/plain": [
              "      tconst titleType   primaryTitle  ... endYear runtimeMinutes          genres\n",
              "0  tt0044298  tvSeries          Today  ...      \\N            240  News,Talk-Show\n",
              "3  tt0261484  tvSeries  NewsChannel 4  ...      \\N             \\N            News\n",
              "\n",
              "[2 rows x 9 columns]"
            ]
          },
          "metadata": {
            "tags": []
          },
          "execution_count": 25
        }
      ]
    },
    {
      "cell_type": "code",
      "metadata": {
        "id": "ydavgkBYKNeW",
        "colab_type": "code",
        "colab": {
          "base_uri": "https://localhost:8080/",
          "height": 35
        },
        "outputId": "1e7eaa41-6344-44e6-fc86-1bd092be2bd1"
      },
      "source": [
        "Combine_list"
      ],
      "execution_count": 9,
      "outputs": [
        {
          "output_type": "execute_result",
          "data": {
            "text/plain": [
              "{'tt0255325', 'tt0978075', 'tt7005704'}"
            ]
          },
          "metadata": {
            "tags": []
          },
          "execution_count": 9
        }
      ]
    },
    {
      "cell_type": "code",
      "metadata": {
        "id": "DNhLwIomooUT",
        "colab_type": "code",
        "colab": {
          "base_uri": "https://localhost:8080/",
          "height": 90
        },
        "outputId": "fe5fd9cc-69a6-4cc9-bbfd-b61fbc9869b7"
      },
      "source": [
        "Primary_title_list =  filter_start_year.primaryTitle.tolist()\n",
        "Primary_title_list"
      ],
      "execution_count": 29,
      "outputs": [
        {
          "output_type": "execute_result",
          "data": {
            "text/plain": [
              "['Anderson Cooper 360°',\n",
              " 'American Morning',\n",
              " 'CNN Newsroom',\n",
              " 'CNN Saturday Morning']"
            ]
          },
          "metadata": {
            "tags": []
          },
          "execution_count": 29
        }
      ]
    },
    {
      "cell_type": "code",
      "metadata": {
        "id": "srpu2WxQcFO0",
        "colab_type": "code",
        "colab": {
          "base_uri": "https://localhost:8080/",
          "height": 90
        },
        "outputId": "e7b23486-c6c5-4cd2-c7aa-d4c209c6d37e"
      },
      "source": [
        "af = open(\"/content/drive/My Drive/Datasets/Trial-1 S7-H11 video/2006-01-04_0000_US_00000063_V2_MB7_VHS7_H11_MS.txt3\")\n",
        "we = af.read()\n",
        "for i in Primary_title_list:\n",
        "  if we.find(i)!=-1:\n",
        "    print(\"yes\")\n",
        "  else:\n",
        "    print(\"No\")\n"
      ],
      "execution_count": 30,
      "outputs": [
        {
          "output_type": "stream",
          "text": [
            "No\n",
            "No\n",
            "No\n",
            "No\n"
          ],
          "name": "stdout"
        }
      ]
    },
    {
      "cell_type": "code",
      "metadata": {
        "id": "dSPAjSaleM4Y",
        "colab_type": "code",
        "colab": {}
      },
      "source": [
        ""
      ],
      "execution_count": null,
      "outputs": []
    }
  ]
}