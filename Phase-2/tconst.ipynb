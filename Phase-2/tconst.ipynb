{
  "nbformat": 4,
  "nbformat_minor": 0,
  "metadata": {
    "colab": {
      "name": "tconst.ipynb",
      "provenance": []
    },
    "kernelspec": {
      "name": "python3",
      "display_name": "Python 3"
    }
  },
  "cells": [
    {
      "cell_type": "code",
      "metadata": {
        "id": "wnEzNS9oTQb9",
        "colab_type": "code",
        "colab": {}
      },
      "source": [
        "def get_all_shows(nConst):\n",
        "  chunksize = 6*10**6\n",
        "  titleprincipal = pd.read_table(TITLE_PRINCIPALS, chunksize = chunksize)\n",
        "  all_shows = pd.DataFrame(columns=['tconst', 'ordering', 'nconst', 'category', 'job', 'characters'])\n",
        "  #Initializing with the same columns as title.principals\n",
        "  for i,chunk in enumerate((titleprincipal)):\n",
        "    req_shows = chunk[chunk['nconst'] == nConst]\n",
        "    print(' {} shows in chunk {}'.format(len(req_shows), i))\n",
        "    all_shows = all_shows.append(req_shows, ignore_index = True)\n",
        "    # filter_category = all_shows[all_shows.category == 'self']\n",
        "\n",
        "  return all_shows.tconst.tolist()"
      ],
      "execution_count": null,
      "outputs": []
    },
    {
      "cell_type": "code",
      "metadata": {
        "id": "XO-WPBhsT1Np",
        "colab_type": "code",
        "colab": {}
      },
      "source": [
        ""
      ],
      "execution_count": null,
      "outputs": []
    }
  ]
}