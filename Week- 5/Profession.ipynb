{
  "nbformat": 4,
  "nbformat_minor": 0,
  "metadata": {
    "colab": {
      "name": "Profession .ipynb",
      "provenance": [],
      "collapsed_sections": []
    },
    "kernelspec": {
      "name": "python3",
      "display_name": "Python 3"
    }
  },
  "cells": [
    {
      "cell_type": "markdown",
      "metadata": {
        "id": "x0dhn05_uzqq",
        "colab_type": "text"
      },
      "source": [
        ""
      ]
    },
    {
      "cell_type": "code",
      "metadata": {
        "id": "pr_WLC8SvDCN",
        "colab_type": "code",
        "colab": {}
      },
      "source": [
        "import wikipedia as wiki"
      ],
      "execution_count": 0,
      "outputs": []
    },
    {
      "cell_type": "code",
      "metadata": {
        "id": "gMJMGNslvKIU",
        "colab_type": "code",
        "colab": {}
      },
      "source": [
        "def get_wiki_professions(name):\n",
        " anchor_content = (wiki.page(name)).content\n",
        "#  anchor_content = anchor_content.split('is ')[0]\n",
        " \n",
        " if ' and ' in anchor_content:\n",
        "   and_split = anchor_content.split(' and ')\n",
        "   # print(and_split)\n",
        "   if ', ' in and_split[0]:\n",
        "       if ' is a ' in and_split[0]:\n",
        "         is_a_split = and_split[0].split(' is a ')[1].split('. ')[0].split(', ')+ [and_split[1]]\n",
        "        #  print(is_a_split)\n",
        "         final_profession = [anchor_content.lower() for anchor_content in is_a_split]\n",
        "        #  print(final_profession)\n",
        "       elif ' is an ' in and_split[0]:\n",
        "           is_an_split = and_split[0].split(' is an ')[1].split('. ')[0].split(', ')+ [and_split[1]]\n",
        "           print(is_an_split)\n",
        "           final_profession = [anchor_content.lower() for anchor_content in is_an_split]\n",
        "          #  print(final_profession)\n",
        "       elif ' was a ' in and_split[0]:\n",
        "           was_a_split = and_split[0].split(' was a ')[1].split('. ')[0].split(', ')+ [and_split[1]]\n",
        "           print(was_a_split)\n",
        "           final_profession =[anchor_content.lower() for anchor_content in was_a_split]\n",
        "          #  print(final_profession)\n",
        "       elif ' was an ' in and_split[0]:\n",
        "           was_an_split = and_split[0].split(' was an ')[1].split('. ')[0].split(', ')+ [and_split[1]]\n",
        "           print(was_an_split)\n",
        "           final_profession = [anchor_content.lower() for anchor_content in was_an_split]\n",
        "          #  print(final_profession)\n",
        " \n",
        "   else:\n",
        "       if ' is a ' in and_split[0]:\n",
        "         is_a_split = and_split[0].split(' is a ')[1].split(' ')+[and_split[1]]\n",
        "         final_profession = [anchor_content.lower() for anchor_content in is_a_split]\n",
        "        #  print(final_profession)\n",
        "       elif ' is an ' in and_split[0]:\n",
        "         is_an_split = and_split[0].split(' is an ')[1].split(' ')+[and_split[1]]\n",
        "        #  print(is_an_split)\n",
        "         final_profession = [anchor_content.lower() for anchor_content in is_an_split]\n",
        "        #  print(final_profession)\n",
        "       elif ' was a ' in and_split[0]:\n",
        "         was_a_split = and_split[0].split(' was a ')[1].split(' ')+[and_split[1]]\n",
        "         final_profession =[anchor_content.lower() for anchor_content in was_a_split]\n",
        "        #  print(final_profession)\n",
        "       elif ' was an ' in and_split[0]:\n",
        "         was_an_split = and_split[0].split(' was an ')[1].split(' ')+[and_split[1]]\n",
        "         final_profession = [anchor_content.lower() for anchor_content in was_an_split]\n",
        "        #  print(final_profession)     \n",
        " else:\n",
        "   if ' is a ' in anchor_content:\n",
        "     is_a_split = anchor_content.split(' is a ')[1].split('. ')[0].split(', ')\n",
        "     final_profession = [anchor_content.lower() for anchor_content in is_a_split]\n",
        "    #  print(final_profession)\n",
        " \n",
        "   elif ' is an ' in anchor_content:\n",
        "     is_an_split = anchor_content.split(' is an ')[1].split('. ')[0].split(', ')\n",
        "     final_profession = [anchor_content.lower() for anchor_content in is_an_split]\n",
        "    #  print(final_profession)\n",
        " \n",
        "   elif ' was a ' in anchor_content:\n",
        "     was_a_split = anchor_content.split(' was a ')[1].split('. ')[0].split(', ')\n",
        "     final_profession = [anchor_content.lower() for anchor_content in was_a_split]\n",
        "    #  print(final_profession)\n",
        " \n",
        "   elif ' was an ' in anchor_content:\n",
        "       was_an_split = anchor_content.split(' was an ')[1].split('. ')[0].split(', ')\n",
        "       final_profession = [anchor_content.lower() for anchor_content in was_an_split]\n",
        "      #  print(final_profession)   \n",
        " \n",
        " "
      ],
      "execution_count": 0,
      "outputs": []
    },
    {
      "cell_type": "code",
      "metadata": {
        "id": "1F7vtAVbPijq",
        "colab_type": "code",
        "colab": {
          "base_uri": "https://localhost:8080/",
          "height": 74
        },
        "outputId": "b26d07ec-a7a6-4017-9164-c00496070731"
      },
      "source": [
        " x = check_profession(\"Bob-Bergen\")"
      ],
      "execution_count": 73,
      "outputs": [
        {
          "output_type": "stream",
          "text": [
            "['American', 'voice', 'actor.', 'He', 'is', 'the', 'current', 'voice', 'of', 'the', 'Warner', 'Bros.', 'cartoon', 'character', 'Porky', 'Pig', \"formerly hosted Jep!, a kids' version of the popular game show Jeopardy!. He is also known for voicing characters in the English dubs of various anime.\\n\\n\\n== Life\"]\n",
            "['american', 'voice', 'actor.', 'he', 'is', 'the', 'current', 'voice', 'of', 'the', 'warner', 'bros.', 'cartoon', 'character', 'porky', 'pig', \"formerly hosted jep!, a kids' version of the popular game show jeopardy!. he is also known for voicing characters in the english dubs of various anime.\\n\\n\\n== life\"]\n"
          ],
          "name": "stdout"
        }
      ]
    },
    {
      "cell_type": "code",
      "metadata": {
        "id": "ixzmkKoxPYti",
        "colab_type": "code",
        "colab": {}
      },
      "source": [
        ""
      ],
      "execution_count": 0,
      "outputs": []
    }
  ]
}